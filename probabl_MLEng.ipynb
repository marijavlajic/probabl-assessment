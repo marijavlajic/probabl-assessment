{
 "cells": [
  {
   "cell_type": "markdown",
   "id": "a1f22f62-03d3-4cb3-8e97-6dafc1fef35f",
   "metadata": {},
   "source": [
    "#### `:probabl.` Statistical ML Software Engineer Programming question"
   ]
  },
  {
   "cell_type": "code",
   "execution_count": 7,
   "id": "29a755f4-b481-4f54-9446-a314f7b1c943",
   "metadata": {},
   "outputs": [],
   "source": [
    "import numpy as np\n",
    "from sklearn.model_selection import permutation_test_score, train_test_split\n",
    "from sklearn.dummy import DummyClassifier\n",
    "from sklearn.ensemble import HistGradientBoostingClassifier\n",
    "from sklearn.datasets import load_iris"
   ]
  },
  {
   "cell_type": "markdown",
   "id": "547df904-6a56-4b8a-90be-9ac768a929eb",
   "metadata": {},
   "source": [
    "We will first load the iris dataset, including the labels (`y`), and split the data into training and test sets."
   ]
  },
  {
   "cell_type": "code",
   "execution_count": 8,
   "id": "e6f5ca09-fc36-41f6-beb9-5255e57e82fb",
   "metadata": {},
   "outputs": [],
   "source": [
    "X, y = load_iris(return_X_y=True)"
   ]
  },
  {
   "cell_type": "code",
   "execution_count": 9,
   "id": "1db01f45-724c-417f-bd98-ea6246a399b2",
   "metadata": {},
   "outputs": [],
   "source": [
    "X_train, X_test, y_train, y_test = train_test_split(\n",
    "    X, y, \n",
    "    test_size=0.2, \n",
    "    random_state=27)"
   ]
  },
  {
   "cell_type": "code",
   "execution_count": 10,
   "id": "68f6ff3a-da3c-416b-b5e9-2aacaeb07ca6",
   "metadata": {},
   "outputs": [],
   "source": [
    "models = [DummyClassifier(), HistGradientBoostingClassifier()]"
   ]
  },
  {
   "cell_type": "markdown",
   "id": "d157b94b-71bd-40cb-bb7f-392f003fbcfe",
   "metadata": {},
   "source": [
    "For each of the two models above, the loop below calculates (in cross-validated fashion with 5 folds):\n",
    "\n",
    "* classification score — this is accuracy, for both models considered here\n",
    "* permutation scores — these are classification scores (accuracy) using the same input data but with shuffled labels, in this case across the default of 100 permutations\n",
    "* p-value — more on p-values below"
   ]
  },
  {
   "cell_type": "code",
   "execution_count": 11,
   "id": "5dc7f19a-7113-435c-8b84-5758ae6af47e",
   "metadata": {},
   "outputs": [
    {
     "name": "stdout",
     "output_type": "stream",
     "text": [
      "For the DummyClassifier() model we have:\n",
      "    classification score: 0.358\n",
      "    permutation score (mean +/- standard deviation): 0.358 +/- 0.000\n",
      "    p-value: 1.000\n",
      "\n",
      "For the HistGradientBoostingClassifier() model we have:\n",
      "    classification score: 0.958\n",
      "    permutation score (mean +/- standard deviation): 0.338 +/- 0.056\n",
      "    p-value: 0.010\n",
      "\n"
     ]
    }
   ],
   "source": [
    "for model in models:\n",
    "    score, permutation_score, p_value = permutation_test_score(\n",
    "        model, X_train, y_train, random_state=27)\n",
    "    print(f'For the {model} model we have:')\n",
    "    print(f'    classification score: {score:.3f}')\n",
    "    print(f'    permutation score (mean +/- standard deviation): {permutation_score.mean():.3f} +/- {permutation_score.std():.3f}')\n",
    "    print(f'    p-value: {p_value:.3f}')\n",
    "    print()"
   ]
  },
  {
   "cell_type": "markdown",
   "id": "d0e91429-74ff-42bc-b1bc-8153a594ec1d",
   "metadata": {},
   "source": [
    "The name of the game with p-values and hypothesis testing is that we start by assuming there is no relationship between studied variables (or more precisely, that none is observed) — this is so called _null hypothesis_. We then calculate the _p-value_ to prove or — in most cases, generally try to — disprove that hypothesis. \n",
    "\n",
    "The p-value captures the probability of observed data happening by chance — p-value of 1 means that there is no observed relationship between our studied variables, we have a case of pure chance. Very low (close to 0) p-value means that the likelihood of the observed relationship being due to chance is very low, that there is some intrinsic relationship in the variables observed, or more precisely, that our model was able pick out this relationship."
   ]
  },
  {
   "cell_type": "markdown",
   "id": "650369ff-709c-4649-8a7d-74c23ef48472",
   "metadata": {},
   "source": [
    "What `permutation_test_score` does is calculate classification score across a number of permutations (in this case the default of 100) where the labels have been permuted/shuffled. The p-value is then calculated as _roughly_ the percentage of these permutations with scores better than the non-shuffled score — the exact formula is \n",
    "\n",
    "$$ \\frac{C+1}{\\text{n_permutations}+1} $$\n",
    "\n",
    "where C is the number of permutations with score equal to or better than the non-shuffled score."
   ]
  },
  {
   "cell_type": "markdown",
   "id": "526c084a-ff83-4619-8450-7d4e69ae995e",
   "metadata": {},
   "source": [
    "In case of the dummy model the (non-permuted) classification score is 0.358. That is because `DummyClassifier` does not consider the input features and by default predicts the most common class — in this case 0 — which in the train set occurs with 35.8\\%."
   ]
  },
  {
   "cell_type": "code",
   "execution_count": 12,
   "id": "b03c3f3a-0ce9-4764-b16f-32c8a9bf5375",
   "metadata": {},
   "outputs": [
    {
     "data": {
      "text/plain": [
       "(array([0, 1, 2]), array([43, 39, 38]))"
      ]
     },
     "execution_count": 12,
     "metadata": {},
     "output_type": "execute_result"
    }
   ],
   "source": [
    "# This returns unique values in the numpy array and their counts\n",
    "np.unique(y_train, return_counts=True)"
   ]
  },
  {
   "cell_type": "code",
   "execution_count": 13,
   "id": "5da17f6f-050e-440b-84e5-938d81390bf1",
   "metadata": {},
   "outputs": [
    {
     "data": {
      "text/plain": [
       "0.35833333333333334"
      ]
     },
     "execution_count": 13,
     "metadata": {},
     "output_type": "execute_result"
    }
   ],
   "source": [
    "# This returns the percentage at which \n",
    "# the most common element in y_train occurs in the array\n",
    "np.unique(y_train, return_counts=True)[1].max()/len(y_train)"
   ]
  },
  {
   "cell_type": "markdown",
   "id": "a4340aa5-05a5-42d6-b7e0-9b8c2ec40a2e",
   "metadata": {},
   "source": [
    "For the dummy model the score of each of the 100 shuffled permutations is also 0.358 because the classifier predicts always the same most common label, resulting in the same accuracy. (That is also why we get the standard deviation of 0 for the permutation scores.) And by definition, since all 100 permutations have the same score, equal to the non-shuffled score, p-value is equal to 1."
   ]
  },
  {
   "cell_type": "markdown",
   "id": "5a345074-5fd4-4db2-a2de-9c55f5310d61",
   "metadata": {},
   "source": [
    "The gradient boosting classifier gives accuracy of 95.8\\%. Permutation scores are in line with dummy classifier scores (0.338 +/- 0.056). And because there are no permutation scores that are better than non-shuffled classification score, p-value is 0.01 (=1/101)."
   ]
  },
  {
   "cell_type": "markdown",
   "id": "1f4c1959-ce2a-4a49-b9cb-54c082e43cdb",
   "metadata": {},
   "source": [
    "In conclusion, the histogram-based gradient boosting classifier results show that there is statistical relationship between iris features and its type — and that the model can detect the relationship. Results for the dummy classifier show that this particular model is unable to pick out this relationship (unsurprising given the nature of the dummy models in scikit-learn). "
   ]
  },
  {
   "cell_type": "markdown",
   "id": "ae47dbcb-a611-4759-9479-15f525206f4e",
   "metadata": {},
   "source": [
    "(For the sake of completeness, I would at this point invoke the test dataset and calculate the _final_ score on the test set. Because feature engineering and cross validated hyperparameter optimization is out of scope of this exercise, a simple version of reporting the test set score would look something like this.)"
   ]
  },
  {
   "cell_type": "code",
   "execution_count": 14,
   "id": "8f1caaae-0a18-4e16-9dc3-562fb8b18118",
   "metadata": {},
   "outputs": [],
   "source": [
    "hgbc = HistGradientBoostingClassifier()"
   ]
  },
  {
   "cell_type": "code",
   "execution_count": 15,
   "id": "d7a96299-828e-4be3-b74c-46ebf6d2e061",
   "metadata": {},
   "outputs": [
    {
     "data": {
      "text/html": [
       "<style>#sk-container-id-1 {color: black;background-color: white;}#sk-container-id-1 pre{padding: 0;}#sk-container-id-1 div.sk-toggleable {background-color: white;}#sk-container-id-1 label.sk-toggleable__label {cursor: pointer;display: block;width: 100%;margin-bottom: 0;padding: 0.3em;box-sizing: border-box;text-align: center;}#sk-container-id-1 label.sk-toggleable__label-arrow:before {content: \"▸\";float: left;margin-right: 0.25em;color: #696969;}#sk-container-id-1 label.sk-toggleable__label-arrow:hover:before {color: black;}#sk-container-id-1 div.sk-estimator:hover label.sk-toggleable__label-arrow:before {color: black;}#sk-container-id-1 div.sk-toggleable__content {max-height: 0;max-width: 0;overflow: hidden;text-align: left;background-color: #f0f8ff;}#sk-container-id-1 div.sk-toggleable__content pre {margin: 0.2em;color: black;border-radius: 0.25em;background-color: #f0f8ff;}#sk-container-id-1 input.sk-toggleable__control:checked~div.sk-toggleable__content {max-height: 200px;max-width: 100%;overflow: auto;}#sk-container-id-1 input.sk-toggleable__control:checked~label.sk-toggleable__label-arrow:before {content: \"▾\";}#sk-container-id-1 div.sk-estimator input.sk-toggleable__control:checked~label.sk-toggleable__label {background-color: #d4ebff;}#sk-container-id-1 div.sk-label input.sk-toggleable__control:checked~label.sk-toggleable__label {background-color: #d4ebff;}#sk-container-id-1 input.sk-hidden--visually {border: 0;clip: rect(1px 1px 1px 1px);clip: rect(1px, 1px, 1px, 1px);height: 1px;margin: -1px;overflow: hidden;padding: 0;position: absolute;width: 1px;}#sk-container-id-1 div.sk-estimator {font-family: monospace;background-color: #f0f8ff;border: 1px dotted black;border-radius: 0.25em;box-sizing: border-box;margin-bottom: 0.5em;}#sk-container-id-1 div.sk-estimator:hover {background-color: #d4ebff;}#sk-container-id-1 div.sk-parallel-item::after {content: \"\";width: 100%;border-bottom: 1px solid gray;flex-grow: 1;}#sk-container-id-1 div.sk-label:hover label.sk-toggleable__label {background-color: #d4ebff;}#sk-container-id-1 div.sk-serial::before {content: \"\";position: absolute;border-left: 1px solid gray;box-sizing: border-box;top: 0;bottom: 0;left: 50%;z-index: 0;}#sk-container-id-1 div.sk-serial {display: flex;flex-direction: column;align-items: center;background-color: white;padding-right: 0.2em;padding-left: 0.2em;position: relative;}#sk-container-id-1 div.sk-item {position: relative;z-index: 1;}#sk-container-id-1 div.sk-parallel {display: flex;align-items: stretch;justify-content: center;background-color: white;position: relative;}#sk-container-id-1 div.sk-item::before, #sk-container-id-1 div.sk-parallel-item::before {content: \"\";position: absolute;border-left: 1px solid gray;box-sizing: border-box;top: 0;bottom: 0;left: 50%;z-index: -1;}#sk-container-id-1 div.sk-parallel-item {display: flex;flex-direction: column;z-index: 1;position: relative;background-color: white;}#sk-container-id-1 div.sk-parallel-item:first-child::after {align-self: flex-end;width: 50%;}#sk-container-id-1 div.sk-parallel-item:last-child::after {align-self: flex-start;width: 50%;}#sk-container-id-1 div.sk-parallel-item:only-child::after {width: 0;}#sk-container-id-1 div.sk-dashed-wrapped {border: 1px dashed gray;margin: 0 0.4em 0.5em 0.4em;box-sizing: border-box;padding-bottom: 0.4em;background-color: white;}#sk-container-id-1 div.sk-label label {font-family: monospace;font-weight: bold;display: inline-block;line-height: 1.2em;}#sk-container-id-1 div.sk-label-container {text-align: center;}#sk-container-id-1 div.sk-container {/* jupyter's `normalize.less` sets `[hidden] { display: none; }` but bootstrap.min.css set `[hidden] { display: none !important; }` so we also need the `!important` here to be able to override the default hidden behavior on the sphinx rendered scikit-learn.org. See: https://github.com/scikit-learn/scikit-learn/issues/21755 */display: inline-block !important;position: relative;}#sk-container-id-1 div.sk-text-repr-fallback {display: none;}</style><div id=\"sk-container-id-1\" class=\"sk-top-container\"><div class=\"sk-text-repr-fallback\"><pre>HistGradientBoostingClassifier()</pre><b>In a Jupyter environment, please rerun this cell to show the HTML representation or trust the notebook. <br />On GitHub, the HTML representation is unable to render, please try loading this page with nbviewer.org.</b></div><div class=\"sk-container\" hidden><div class=\"sk-item\"><div class=\"sk-estimator sk-toggleable\"><input class=\"sk-toggleable__control sk-hidden--visually\" id=\"sk-estimator-id-1\" type=\"checkbox\" checked><label for=\"sk-estimator-id-1\" class=\"sk-toggleable__label sk-toggleable__label-arrow\">HistGradientBoostingClassifier</label><div class=\"sk-toggleable__content\"><pre>HistGradientBoostingClassifier()</pre></div></div></div></div></div>"
      ],
      "text/plain": [
       "HistGradientBoostingClassifier()"
      ]
     },
     "execution_count": 15,
     "metadata": {},
     "output_type": "execute_result"
    }
   ],
   "source": [
    "hgbc.fit(X_train, y_train)"
   ]
  },
  {
   "cell_type": "code",
   "execution_count": 16,
   "id": "90024aca-3403-4852-b000-e9446a584531",
   "metadata": {},
   "outputs": [
    {
     "data": {
      "text/plain": [
       "0.9"
      ]
     },
     "execution_count": 16,
     "metadata": {},
     "output_type": "execute_result"
    }
   ],
   "source": [
    "hgbc.score(X_test, y_test)"
   ]
  }
 ],
 "metadata": {
  "kernelspec": {
   "display_name": "Python 3.8.5 64-bit ('anaconda3': virtualenv)",
   "language": "python",
   "name": "python385jvsc74a57bd086a6e36cae497197777c70e82ebac18f44667011d85d4dfa35cc8da0e057b101"
  },
  "language_info": {
   "codemirror_mode": {
    "name": "ipython",
    "version": 3
   },
   "file_extension": ".py",
   "mimetype": "text/x-python",
   "name": "python",
   "nbconvert_exporter": "python",
   "pygments_lexer": "ipython3",
   "version": "3.8.5"
  }
 },
 "nbformat": 4,
 "nbformat_minor": 5
}
