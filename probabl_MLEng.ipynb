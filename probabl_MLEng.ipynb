{
 "cells": [
  {
   "cell_type": "markdown",
   "id": "a1f22f62-03d3-4cb3-8e97-6dafc1fef35f",
   "metadata": {},
   "source": [
    "#### `:probabl.` Statistical ML Software Engineer Programming question"
   ]
  },
  {
   "cell_type": "code",
   "execution_count": null,
   "id": "29a755f4-b481-4f54-9446-a314f7b1c943",
   "metadata": {},
   "outputs": [],
   "source": [
    "import numpy as np\n",
    "from sklearn.model_selection import permutation_test_score, train_test_split\n",
    "from sklearn.dummy import DummyClassifier\n",
    "from sklearn.ensemble import HistGradientBoostingClassifier\n",
    "from sklearn.datasets import load_iris"
   ]
  },
  {
   "cell_type": "markdown",
   "id": "547df904-6a56-4b8a-90be-9ac768a929eb",
   "metadata": {},
   "source": [
    "We will first load the iris dataset, including the labels (`y`), and split the data into training and test sets."
   ]
  },
  {
   "cell_type": "code",
   "execution_count": null,
   "id": "e6f5ca09-fc36-41f6-beb9-5255e57e82fb",
   "metadata": {},
   "outputs": [],
   "source": [
    "X, y = load_iris(return_X_y=True)"
   ]
  },
  {
   "cell_type": "code",
   "execution_count": null,
   "id": "1db01f45-724c-417f-bd98-ea6246a399b2",
   "metadata": {},
   "outputs": [],
   "source": [
    "X_train, X_test, y_train, y_test = train_test_split(\n",
    "    X, y, \n",
    "    test_size=0.2, \n",
    "    random_state=27)"
   ]
  },
  {
   "cell_type": "code",
   "execution_count": null,
   "id": "68f6ff3a-da3c-416b-b5e9-2aacaeb07ca6",
   "metadata": {},
   "outputs": [],
   "source": [
    "models = [DummyClassifier(), HistGradientBoostingClassifier()]"
   ]
  },
  {
   "cell_type": "markdown",
   "id": "d157b94b-71bd-40cb-bb7f-392f003fbcfe",
   "metadata": {},
   "source": [
    "For each of the two models above, the loop below calculates (in cross-validated fashion with 5 folds):\n",
    "\n",
    "* classification score — this is accuracy, for both models considered here\n",
    "* permutation scores — these are classification scores (accuracy) using the same input data but with shuffled labels, in this case across the default of 100 permutations\n",
    "* p-value — more on p-values below"
   ]
  },
  {
   "cell_type": "code",
   "execution_count": null,
   "id": "5dc7f19a-7113-435c-8b84-5758ae6af47e",
   "metadata": {},
   "outputs": [],
   "source": [
    "for model in models:\n",
    "    score, permutation_score, p_value = permutation_test_score(\n",
    "        model, X_train, y_train, random_state=27)\n",
    "    print(f'For the {model} model we have:')\n",
    "    print(f'    classification score: {score:.3f}')\n",
    "    print(f'    permutation score (mean +/- standard deviation): {permutation_score.mean():.3f} +/- {permutation_score.std():.3f}')\n",
    "    print(f'    p-value: {p_value:.3f}')\n",
    "    print()"
   ]
  },
  {
   "cell_type": "markdown",
   "id": "d0e91429-74ff-42bc-b1bc-8153a594ec1d",
   "metadata": {},
   "source": [
    "The name of the game with p-values and hypothesis testing is that we start by assuming there is no relationship between studied variables (or more precisely, that none is observed) — this is so called _null hypothesis_. We then calculate the _p-value_ to prove or — in most cases, generally try to — disprove that hypothesis. \n",
    "\n",
    "The p-value captures the probability of observed data happening by chance — p-value of 1 means that there is no observed relationship between our studied variables, we have a case of pure chance. Very low (close to 0) p-value means that the likelihood of the observed relationship being due to chance is very low, that there is some intrinsic relationship in the variables observed, or more precisely, that our model was able pick out this relationship."
   ]
  },
  {
   "cell_type": "markdown",
   "id": "650369ff-709c-4649-8a7d-74c23ef48472",
   "metadata": {},
   "source": [
    "What `permutation_test_score` does is calculate classification score across a number of permutations (in this case the default of 100) where the labels have been permuted/shuffled. The p-value is then calculated as _roughly_ the percentage of these permutations with scores better than the non-shuffled score — the exact formula is \n",
    "\n",
    "$$ \\frac{C+1}{\\text{n_permutations}+1} $$\n",
    "\n",
    "where C is the number of permutations with score equal to or better than the non-shuffled score."
   ]
  },
  {
   "cell_type": "markdown",
   "id": "526c084a-ff83-4619-8450-7d4e69ae995e",
   "metadata": {},
   "source": [
    "In case of the dummy model the (non-permuted) classification score is 0.358. That is because `DummyClassifier` does not consider the input features and by default predicts the most common class — in this case 0 — which in the train set occurs with 35.8\\%."
   ]
  },
  {
   "cell_type": "code",
   "execution_count": null,
   "id": "b03c3f3a-0ce9-4764-b16f-32c8a9bf5375",
   "metadata": {},
   "outputs": [],
   "source": [
    "# This returns unique values in the numpy array and their counts\n",
    "np.unique(y_train, return_counts=True)"
   ]
  },
  {
   "cell_type": "code",
   "execution_count": null,
   "id": "5da17f6f-050e-440b-84e5-938d81390bf1",
   "metadata": {},
   "outputs": [],
   "source": [
    "# This returns the percentage at which \n",
    "# the most common element in y_train occurs in the array\n",
    "np.unique(y_train, return_counts=True)[1].max()/len(y_train)"
   ]
  },
  {
   "cell_type": "markdown",
   "id": "a4340aa5-05a5-42d6-b7e0-9b8c2ec40a2e",
   "metadata": {},
   "source": [
    "For the dummy model the score of each of the 100 shuffled permutations is also 0.358 because the classifier predicts always the same most common label, resulting in the same accuracy. (That is also why we get the standard deviation of 0 for the permutation scores.) And by definition, since all 100 permutations have the same score, equal to the non-shuffled score, p-value is equal to 1."
   ]
  },
  {
   "cell_type": "markdown",
   "id": "5a345074-5fd4-4db2-a2de-9c55f5310d61",
   "metadata": {},
   "source": [
    "The gradient boosting classifier gives accuracy of 95.8\\%. Permutation scores are in line with dummy classifier scores (0.338 +/- 0.056). And because there are no permutation scores that are better than non-shuffled classification score, p-value is 0.01 (=1/101)."
   ]
  },
  {
   "cell_type": "markdown",
   "id": "1f4c1959-ce2a-4a49-b9cb-54c082e43cdb",
   "metadata": {},
   "source": [
    "In conclusion, the histogram-based gradient boosting classifier results show that there is statistical relationship between iris features and its type — and that the model can detect the relationship. Results for the dummy classifier show that this particular model is unable to pick out this relationship (unsurprising given the nature of the dummy models in scikit-learn). "
   ]
  },
  {
   "cell_type": "markdown",
   "id": "ae47dbcb-a611-4759-9479-15f525206f4e",
   "metadata": {},
   "source": [
    "(For the sake of completeness, I would at this point invoke the test dataset and calculate the _final_ score on the test set. Because feature engineering and cross validated hyperparameter optimization is out of scope of this exercise, a simple version of reporting the test set score would look something like this.)"
   ]
  },
  {
   "cell_type": "code",
   "execution_count": null,
   "id": "8f1caaae-0a18-4e16-9dc3-562fb8b18118",
   "metadata": {},
   "outputs": [],
   "source": [
    "hgbc = HistGradientBoostingClassifier()"
   ]
  },
  {
   "cell_type": "code",
   "execution_count": null,
   "id": "d7a96299-828e-4be3-b74c-46ebf6d2e061",
   "metadata": {},
   "outputs": [],
   "source": [
    "hgbc.fit(X_train, y_train)"
   ]
  },
  {
   "cell_type": "code",
   "execution_count": null,
   "id": "90024aca-3403-4852-b000-e9446a584531",
   "metadata": {},
   "outputs": [],
   "source": [
    "hgbc.score(X_test, y_test)"
   ]
  }
 ],
 "metadata": {
  "kernelspec": {
   "display_name": "Python 3.8.5 64-bit ('anaconda3': virtualenv)",
   "language": "python",
   "name": "python385jvsc74a57bd086a6e36cae497197777c70e82ebac18f44667011d85d4dfa35cc8da0e057b101"
  },
  "language_info": {
   "codemirror_mode": {
    "name": "ipython",
    "version": 3
   },
   "file_extension": ".py",
   "mimetype": "text/x-python",
   "name": "python",
   "nbconvert_exporter": "python",
   "pygments_lexer": "ipython3",
   "version": "3.8.5"
  }
 },
 "nbformat": 4,
 "nbformat_minor": 5
}
